{
 "cells": [
  {
   "cell_type": "code",
   "execution_count": 1,
   "metadata": {},
   "outputs": [],
   "source": [
    "import numpy as np\n",
    "import pandas as pd\n",
    "import json"
   ]
  },
  {
   "cell_type": "code",
   "execution_count": 6,
   "metadata": {},
   "outputs": [],
   "source": [
    "path = './data'\n",
    "size_of_the_split = 50000\n",
    "\n",
    "split_count = 1\n",
    "with open('./data/arxiv-metadata-oai-snapshot.json', 'r', encoding='utf-8') as f1:\n",
    "    for i,line in enumerate(f1.readlines()):\n",
    "        if i % size_of_the_split == 0:        \n",
    "            if i != 0:\n",
    "                file.close()\n",
    "            file = open(path + \"\\\\original_data_split\" + str(split_count) + \".json\", 'w')\n",
    "            split_count += 1\n",
    "        file.write(line)\n",
    "    \n",
    "file.close()"
   ]
  }
 ],
 "metadata": {
  "kernelspec": {
   "display_name": "base",
   "language": "python",
   "name": "python3"
  },
  "language_info": {
   "codemirror_mode": {
    "name": "ipython",
    "version": 3
   },
   "file_extension": ".py",
   "mimetype": "text/x-python",
   "name": "python",
   "nbconvert_exporter": "python",
   "pygments_lexer": "ipython3",
   "version": "3.9.12"
  },
  "orig_nbformat": 4,
  "vscode": {
   "interpreter": {
    "hash": "1d5a5b56cc7e7c751546394c11232acd8c1c519f505a630864db73aad8d2e36d"
   }
  }
 },
 "nbformat": 4,
 "nbformat_minor": 2
}
